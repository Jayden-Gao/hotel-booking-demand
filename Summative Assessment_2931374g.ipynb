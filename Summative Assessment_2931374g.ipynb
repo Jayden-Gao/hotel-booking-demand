{
 "cells": [
  {
   "cell_type": "markdown",
   "id": "24bf82e1",
   "metadata": {},
   "source": [
    "# Summative Assessment\n",
    "### 2931374g\n",
    "### 2024.3.20"
   ]
  },
  {
   "cell_type": "markdown",
   "id": "e0295661",
   "metadata": {},
   "source": [
    "## 1. Introdution"
   ]
  },
  {
   "cell_type": "markdown",
   "id": "a1067eef",
   "metadata": {},
   "source": [
    "In an era of increasingly personalised and data-driven global tourism, the hospitality industry faces challenges and opportunities in understanding and meeting the diverse needs of travellers from different geographical boroughs. With the emergence of comprehensive datasets, such as the Hotel Reservations dataset containing detailed booking information for both city and resort hotels, researchers and practitioners alike have a unique opportunity to delve deeper into the complexities of consumer behaviour during the hotel booking process. This project aims to harness the power of this dataset to reveal the nuanced preferences of hotel guests based on their geographic origin, exploring patterns that can inform more targeted and effective hotel management and marketing strategies.\n",
    "\n",
    "### 1.1 Research Questions\n",
    "This project is guided by a series of research questions focused on revealing the geographic diversity of hotel booking preferences and its implications for the hospitality industry. \n",
    "These questions are:\n",
    "1.Geographic diversity of booking preferences:How do hotel guests' booking preferences vary across geographic boroughs and what insights can these preferences provide about the cultural and economic factors that influence their travel and accommodation choices?\n",
    "2.The impact of length of stay on booking dynamics:In what ways does expected length of stay influence guests' booking decisions? How do these preferences differ between city hotels and resorts for guests from different regions?\n",
    "3.Seasonality and regional demand: Is there a clear relationship between guests' country of origin and their preferred travel season or booking period? How can hotels use this information to optimise occupancy and pricing strategies(Fernández-Morales and Mayorga-Toledano, 2008)?\n",
    "\n",
    "### 1.2 Research Objectives\n",
    "1.Reveal borough booking patterns:Use the dataset to identify the different booking behaviours and preferences of guests from different countries and regions, providing a granular view of global travel trends.\n",
    "2.Analyse the role of length of stay and hotel type:Investigate the relationship between length of stay, choice of hotel type (city or resort) and guests' geographic background, with the aim of providing actionable insights for guest segmentation and targeted marketing.\n",
    "3.Explore the impact of seasonality on booking preferences:Examining the impact of seasonality on booking trends across different geographic regions, with the aim of informing hotels' operational and promotional strategies to better adapt to borough demand patterns.\n",
    "\n",
    "Utilising the dataset's rich repository of booking information and building on the foundational work of Nuno Antonio, Ana Almeida and Luis Nunes, this project try to contribute to the ongoing discourse of hospitality management research. By providing a deeper understanding of the factors influencing guest booking preferences across geographic contexts, the analysis aims to provide valuable insights to improve strategic planning and operational efficiency in hotels worldwide."
   ]
  },
  {
   "cell_type": "markdown",
   "id": "6a71b270",
   "metadata": {},
   "source": [
    "## 2. Data"
   ]
  },
  {
   "cell_type": "markdown",
   "id": "1ba3f72c",
   "metadata": {},
   "source": [
    "In conducting in-depth analyses to reveal the geographic diversity of hotel booking preferences, the study utilised a dataset on Kaggle that is highly detailed and extensive. This particular dataset is the cornerstone of this investigation, providing a detailed overview of city hotel and resort bookings. The data covers a range of variables that are critical to understanding the dynamics of a booking, including time of booking, time of stay, and comprehensive demographic information about the guest. These data points allow for a nuanced exploration of patterns and trends in hotel bookings, particularly as they relate to the geographic origin of guests.\n",
    "\n",
    "The dataset is derived from the academic book \"Hotel Booking Demand Dataset\" co-authored by Nuno Antonio, Ana Almeida and Luis Nunes, which was published in February 2019 in the journal Data in Brief(Antonio, De Almeida and Nunes, 2019). This work was undertaken to provide a robust framework for analysing customer booking behaviour in the hospitality industry. Following the publication of the dataset, Thomas Mock and Antoine Bichat undertook a rigorous cleaning and preparation of the dataset as part of the #TidyTuesday programme - a weekly data project for the R programming community. This meticulous data-cleaning phase was crucial, not only to improve the accessibility of the dataset, but also to ensure its completeness and reliability for subsequent analyses.\n",
    "\n",
    "This dataset was acquired directly from Kaggle. Although the amount of work involved in such an approach is small, this direct access to the data ensures that the dataset does not suffer from the common pitfalls associated with raw data collection, such as inconsistency and potential bias. The ability to build on that foundation is further processed. Additionally, an important aspect of dataset preparation was the removal of all personally identifiable information, a critical step in adhering to the highest standards of ethical research practice. This careful consideration of privacy and ethics ensured that the analysis focused on overall trends and behaviours without compromising individual privacy.\n",
    "\n",
    "By utilising this carefully prepared dataset, this study aims to provide insight into the complexity of how geographic factors influence hotel booking preferences. The wealth of detail captured in the dataset provides a unique opportunity to dissect and understand the myriad of factors that drive booking decisions across different regions. As such, the dataset not only serves as the backbone of our analyses, but also highlights the importance of rigorous data preparation and ethical considerations when conducting research that is both meaningful and respectful of privacy."
   ]
  },
  {
   "cell_type": "markdown",
   "id": "a3d9ab3d",
   "metadata": {},
   "source": [
    "### 2.1 Understanding Data"
   ]
  },
  {
   "cell_type": "code",
   "execution_count": 1,
   "id": "71a6098b",
   "metadata": {
    "collapsed": true
   },
   "outputs": [
    {
     "data": {
      "text/html": [
       "<div>\n",
       "<style scoped>\n",
       "    .dataframe tbody tr th:only-of-type {\n",
       "        vertical-align: middle;\n",
       "    }\n",
       "\n",
       "    .dataframe tbody tr th {\n",
       "        vertical-align: top;\n",
       "    }\n",
       "\n",
       "    .dataframe thead th {\n",
       "        text-align: right;\n",
       "    }\n",
       "</style>\n",
       "<table border=\"1\" class=\"dataframe\">\n",
       "  <thead>\n",
       "    <tr style=\"text-align: right;\">\n",
       "      <th></th>\n",
       "      <th>hotel</th>\n",
       "      <th>is_canceled</th>\n",
       "      <th>lead_time</th>\n",
       "      <th>arrival_date_year</th>\n",
       "      <th>arrival_date_month</th>\n",
       "      <th>arrival_date_week_number</th>\n",
       "      <th>arrival_date_day_of_month</th>\n",
       "      <th>stays_in_weekend_nights</th>\n",
       "      <th>stays_in_week_nights</th>\n",
       "      <th>adults</th>\n",
       "      <th>...</th>\n",
       "      <th>deposit_type</th>\n",
       "      <th>agent</th>\n",
       "      <th>company</th>\n",
       "      <th>days_in_waiting_list</th>\n",
       "      <th>customer_type</th>\n",
       "      <th>adr</th>\n",
       "      <th>required_car_parking_spaces</th>\n",
       "      <th>total_of_special_requests</th>\n",
       "      <th>reservation_status</th>\n",
       "      <th>reservation_status_date</th>\n",
       "    </tr>\n",
       "  </thead>\n",
       "  <tbody>\n",
       "    <tr>\n",
       "      <th>0</th>\n",
       "      <td>Resort Hotel</td>\n",
       "      <td>0</td>\n",
       "      <td>342</td>\n",
       "      <td>2015</td>\n",
       "      <td>July</td>\n",
       "      <td>27</td>\n",
       "      <td>1</td>\n",
       "      <td>0</td>\n",
       "      <td>0</td>\n",
       "      <td>2</td>\n",
       "      <td>...</td>\n",
       "      <td>No Deposit</td>\n",
       "      <td>NaN</td>\n",
       "      <td>NaN</td>\n",
       "      <td>0</td>\n",
       "      <td>Transient</td>\n",
       "      <td>0.0</td>\n",
       "      <td>0</td>\n",
       "      <td>0</td>\n",
       "      <td>Check-Out</td>\n",
       "      <td>2015-07-01</td>\n",
       "    </tr>\n",
       "    <tr>\n",
       "      <th>1</th>\n",
       "      <td>Resort Hotel</td>\n",
       "      <td>0</td>\n",
       "      <td>737</td>\n",
       "      <td>2015</td>\n",
       "      <td>July</td>\n",
       "      <td>27</td>\n",
       "      <td>1</td>\n",
       "      <td>0</td>\n",
       "      <td>0</td>\n",
       "      <td>2</td>\n",
       "      <td>...</td>\n",
       "      <td>No Deposit</td>\n",
       "      <td>NaN</td>\n",
       "      <td>NaN</td>\n",
       "      <td>0</td>\n",
       "      <td>Transient</td>\n",
       "      <td>0.0</td>\n",
       "      <td>0</td>\n",
       "      <td>0</td>\n",
       "      <td>Check-Out</td>\n",
       "      <td>2015-07-01</td>\n",
       "    </tr>\n",
       "    <tr>\n",
       "      <th>2</th>\n",
       "      <td>Resort Hotel</td>\n",
       "      <td>0</td>\n",
       "      <td>7</td>\n",
       "      <td>2015</td>\n",
       "      <td>July</td>\n",
       "      <td>27</td>\n",
       "      <td>1</td>\n",
       "      <td>0</td>\n",
       "      <td>1</td>\n",
       "      <td>1</td>\n",
       "      <td>...</td>\n",
       "      <td>No Deposit</td>\n",
       "      <td>NaN</td>\n",
       "      <td>NaN</td>\n",
       "      <td>0</td>\n",
       "      <td>Transient</td>\n",
       "      <td>75.0</td>\n",
       "      <td>0</td>\n",
       "      <td>0</td>\n",
       "      <td>Check-Out</td>\n",
       "      <td>2015-07-02</td>\n",
       "    </tr>\n",
       "    <tr>\n",
       "      <th>3</th>\n",
       "      <td>Resort Hotel</td>\n",
       "      <td>0</td>\n",
       "      <td>13</td>\n",
       "      <td>2015</td>\n",
       "      <td>July</td>\n",
       "      <td>27</td>\n",
       "      <td>1</td>\n",
       "      <td>0</td>\n",
       "      <td>1</td>\n",
       "      <td>1</td>\n",
       "      <td>...</td>\n",
       "      <td>No Deposit</td>\n",
       "      <td>304.0</td>\n",
       "      <td>NaN</td>\n",
       "      <td>0</td>\n",
       "      <td>Transient</td>\n",
       "      <td>75.0</td>\n",
       "      <td>0</td>\n",
       "      <td>0</td>\n",
       "      <td>Check-Out</td>\n",
       "      <td>2015-07-02</td>\n",
       "    </tr>\n",
       "    <tr>\n",
       "      <th>4</th>\n",
       "      <td>Resort Hotel</td>\n",
       "      <td>0</td>\n",
       "      <td>14</td>\n",
       "      <td>2015</td>\n",
       "      <td>July</td>\n",
       "      <td>27</td>\n",
       "      <td>1</td>\n",
       "      <td>0</td>\n",
       "      <td>2</td>\n",
       "      <td>2</td>\n",
       "      <td>...</td>\n",
       "      <td>No Deposit</td>\n",
       "      <td>240.0</td>\n",
       "      <td>NaN</td>\n",
       "      <td>0</td>\n",
       "      <td>Transient</td>\n",
       "      <td>98.0</td>\n",
       "      <td>0</td>\n",
       "      <td>1</td>\n",
       "      <td>Check-Out</td>\n",
       "      <td>2015-07-03</td>\n",
       "    </tr>\n",
       "  </tbody>\n",
       "</table>\n",
       "<p>5 rows × 32 columns</p>\n",
       "</div>"
      ],
      "text/plain": [
       "          hotel  is_canceled  lead_time  arrival_date_year arrival_date_month  \\\n",
       "0  Resort Hotel            0        342               2015               July   \n",
       "1  Resort Hotel            0        737               2015               July   \n",
       "2  Resort Hotel            0          7               2015               July   \n",
       "3  Resort Hotel            0         13               2015               July   \n",
       "4  Resort Hotel            0         14               2015               July   \n",
       "\n",
       "   arrival_date_week_number  arrival_date_day_of_month  \\\n",
       "0                        27                          1   \n",
       "1                        27                          1   \n",
       "2                        27                          1   \n",
       "3                        27                          1   \n",
       "4                        27                          1   \n",
       "\n",
       "   stays_in_weekend_nights  stays_in_week_nights  adults  ...  deposit_type  \\\n",
       "0                        0                     0       2  ...    No Deposit   \n",
       "1                        0                     0       2  ...    No Deposit   \n",
       "2                        0                     1       1  ...    No Deposit   \n",
       "3                        0                     1       1  ...    No Deposit   \n",
       "4                        0                     2       2  ...    No Deposit   \n",
       "\n",
       "   agent company days_in_waiting_list customer_type   adr  \\\n",
       "0    NaN     NaN                    0     Transient   0.0   \n",
       "1    NaN     NaN                    0     Transient   0.0   \n",
       "2    NaN     NaN                    0     Transient  75.0   \n",
       "3  304.0     NaN                    0     Transient  75.0   \n",
       "4  240.0     NaN                    0     Transient  98.0   \n",
       "\n",
       "   required_car_parking_spaces  total_of_special_requests  reservation_status  \\\n",
       "0                            0                          0           Check-Out   \n",
       "1                            0                          0           Check-Out   \n",
       "2                            0                          0           Check-Out   \n",
       "3                            0                          0           Check-Out   \n",
       "4                            0                          1           Check-Out   \n",
       "\n",
       "  reservation_status_date  \n",
       "0              2015-07-01  \n",
       "1              2015-07-01  \n",
       "2              2015-07-02  \n",
       "3              2015-07-02  \n",
       "4              2015-07-03  \n",
       "\n",
       "[5 rows x 32 columns]"
      ]
     },
     "execution_count": 1,
     "metadata": {},
     "output_type": "execute_result"
    }
   ],
   "source": [
    "import pandas as pd\n",
    "\n",
    "file_path ='hotel_bookings.csv'\n",
    "hotel_bookings = pd.read_csv(file_path)\n",
    "\n",
    "hotel_bookings.head()\n"
   ]
  },
  {
   "cell_type": "code",
   "execution_count": 2,
   "id": "5e6db6ad",
   "metadata": {
    "collapsed": true
   },
   "outputs": [
    {
     "name": "stdout",
     "output_type": "stream",
     "text": [
      "<class 'pandas.core.frame.DataFrame'>\n",
      "RangeIndex: 119390 entries, 0 to 119389\n",
      "Data columns (total 32 columns):\n",
      " #   Column                          Non-Null Count   Dtype  \n",
      "---  ------                          --------------   -----  \n",
      " 0   hotel                           119390 non-null  object \n",
      " 1   is_canceled                     119390 non-null  int64  \n",
      " 2   lead_time                       119390 non-null  int64  \n",
      " 3   arrival_date_year               119390 non-null  int64  \n",
      " 4   arrival_date_month              119390 non-null  object \n",
      " 5   arrival_date_week_number        119390 non-null  int64  \n",
      " 6   arrival_date_day_of_month       119390 non-null  int64  \n",
      " 7   stays_in_weekend_nights         119390 non-null  int64  \n",
      " 8   stays_in_week_nights            119390 non-null  int64  \n",
      " 9   adults                          119390 non-null  int64  \n",
      " 10  children                        119386 non-null  float64\n",
      " 11  babies                          119390 non-null  int64  \n",
      " 12  meal                            119390 non-null  object \n",
      " 13  country                         118902 non-null  object \n",
      " 14  market_segment                  119390 non-null  object \n",
      " 15  distribution_channel            119390 non-null  object \n",
      " 16  is_repeated_guest               119390 non-null  int64  \n",
      " 17  previous_cancellations          119390 non-null  int64  \n",
      " 18  previous_bookings_not_canceled  119390 non-null  int64  \n",
      " 19  reserved_room_type              119390 non-null  object \n",
      " 20  assigned_room_type              119390 non-null  object \n",
      " 21  booking_changes                 119390 non-null  int64  \n",
      " 22  deposit_type                    119390 non-null  object \n",
      " 23  agent                           103050 non-null  float64\n",
      " 24  company                         6797 non-null    float64\n",
      " 25  days_in_waiting_list            119390 non-null  int64  \n",
      " 26  customer_type                   119390 non-null  object \n",
      " 27  adr                             119390 non-null  float64\n",
      " 28  required_car_parking_spaces     119390 non-null  int64  \n",
      " 29  total_of_special_requests       119390 non-null  int64  \n",
      " 30  reservation_status              119390 non-null  object \n",
      " 31  reservation_status_date         119390 non-null  object \n",
      "dtypes: float64(4), int64(16), object(12)\n",
      "memory usage: 29.1+ MB\n"
     ]
    }
   ],
   "source": [
    "#Explore data types and summary statistics\n",
    "hotel_bookings.dtypes\n",
    "hotel_bookings.describe()\n",
    "hotel_bookings.info()\n"
   ]
  },
  {
   "cell_type": "markdown",
   "id": "060956d1",
   "metadata": {},
   "source": [
    "### 2.2 Data cleaning"
   ]
  },
  {
   "cell_type": "code",
   "execution_count": 3,
   "id": "5dd46243",
   "metadata": {
    "collapsed": true
   },
   "outputs": [
    {
     "data": {
      "text/plain": [
       "children         4\n",
       "country        488\n",
       "agent        16340\n",
       "company     112593\n",
       "dtype: int64"
      ]
     },
     "execution_count": 3,
     "metadata": {},
     "output_type": "execute_result"
    }
   ],
   "source": [
    "#Identify missing value\n",
    "missing_values = hotel_bookings.isnull().sum()\n",
    "missing_values[missing_values > 0]\n"
   ]
  },
  {
   "cell_type": "code",
   "execution_count": 4,
   "id": "6c862bda",
   "metadata": {},
   "outputs": [],
   "source": [
    "#Processing missing value\n",
    "hotel_bookings['children'].fillna(0, inplace=True) \n",
    "hotel_bookings['country'].fillna('Unknown', inplace=True)  \n",
    "hotel_bookings['agent'].fillna(0, inplace=True) \n",
    "hotel_bookings.drop('company', axis=1, inplace=True) "
   ]
  },
  {
   "cell_type": "markdown",
   "id": "1d12250e",
   "metadata": {},
   "source": [
    "When analyzing booking preferences, records of too high or too low adr (average daily rate) may not be representative or may be an input error, and these outliers are filtered out using the IQR method(Dash et al., 2023)."
   ]
  },
  {
   "cell_type": "code",
   "execution_count": 7,
   "id": "6501721a",
   "metadata": {},
   "outputs": [],
   "source": [
    "#Processing outliers\n",
    "#Use the IQR method to process outliers in the adr (Average Daily Rate) column\n",
    "Q1 = hotel_bookings['adr'].quantile(0.25)\n",
    "Q3 = hotel_bookings['adr'].quantile(0.75)\n",
    "IQR = Q3 - Q1\n",
    "\n",
    "# Define upper and lower bounds for outliers\n",
    "lower_limit = Q1 - 1.5 * IQR\n",
    "upper_limit = Q3 + 1.5 * IQR\n",
    "\n",
    "#Fliter outliers\n",
    "hotel_bookings_filtered = hotel_bookings[(hotel_bookings['adr'] >= lower_limit) & (hotel_bookings['adr'] <= upper_limit)]"
   ]
  },
  {
   "cell_type": "markdown",
   "id": "6fd0ea8b",
   "metadata": {},
   "source": [
    "### 2.3 Feature Engneering"
   ]
  },
  {
   "cell_type": "markdown",
   "id": "557e46df",
   "metadata": {},
   "source": [
    "#### 2.3.1 Create new features\n",
    "To better analyze booking preferences, I create new features based on existing data, such as combining arrival_date_year, arrival_date_month, arrival_date_day_of_month into a new column in a date format for time series analysis."
   ]
  },
  {
   "cell_type": "code",
   "execution_count": 8,
   "id": "b714bc5e",
   "metadata": {},
   "outputs": [],
   "source": [
    "hotel_bookings['arrival_date'] = pd.to_datetime(hotel_bookings['arrival_date_year'].astype(str) + '-' + hotel_bookings['arrival_date_month'] + '-' + hotel_bookings['arrival_date_day_of_month'].astype(str))"
   ]
  },
  {
   "cell_type": "markdown",
   "id": "ab676e9f",
   "metadata": {},
   "source": [
    "#### 2.3.2 Processing categorical variables\n",
    "Categorical variables such as country can be converted to numeric type using One-Hot Encoding for machine learning modeling."
   ]
  },
  {
   "cell_type": "code",
   "execution_count": 9,
   "id": "47cb5dab",
   "metadata": {},
   "outputs": [],
   "source": [
    "hotel_bookings = pd.get_dummies(hotel_bookings, columns=['country'], prefix='country')"
   ]
  },
  {
   "cell_type": "markdown",
   "id": "7cd840d7",
   "metadata": {},
   "source": [
    "### 2.4 Data Visualization\n",
    "Visualization of booking preferences. Use the seaborn library to visualize bookings in different countries to identify which countries are more likely to book hotels.\n",
    "\n",
    "This bar chart illustrates the **top 10 countries** by the number of hotel bookings, providing a clear visual representation of where the majority of the hotel's guests are coming from. The country codes, such as 'PRT', 'GBR', 'FRA', and others, likely refer to the standard ISO country codes, with 'PRT' standing for Portugal, 'GBR' for the United Kingdom, 'FRA' for France, and so on.\n",
    "\n",
    "From the chart, it is evident that Portugal (PRT) leads the way with the highest number of bookings, followed by the United Kingdom (GBR), France (FRA), Spain (ESP), and other countries. This could suggest a strong domestic market if the hotel is located in Portugal, or a significant influx of Portuguese tourists if the hotel is located elsewhere. The substantial number of bookings from these top countries may indicate popular origins for tourists or effective market penetration by the hotel's marketing efforts in these regions.\n",
    "\n",
    "The distribution of bookings across these countries can provide valuable insights into the hotel's market composition. For hotel management, understanding this distribution is crucial for tailoring marketing strategies, optimizing service offerings to cater to the preferences of these key market segments, and possibly identifying opportunities for expansion or partnership in those regions."
   ]
  },
  {
   "cell_type": "code",
   "execution_count": 19,
   "id": "4bc9cdfa",
   "metadata": {},
   "outputs": [
    {
     "data": {
      "image/png": "[encoded data removed]",
      "text/plain": [
       "<Figure size 1000x800 with 1 Axes>"
      ]
     },
     "metadata": {},
     "output_type": "display_data"
    }
   ],
   "source": [
    "import seaborn as sns\n",
    "import matplotlib.pyplot as plt\n",
    "# Extract all country column names\n",
    "country_columns = [col for col in hotel_bookings.columns if col.startswith('country_')]\n",
    "\n",
    "# Sum the number of bookings for each country\n",
    "country_bookings = hotel_bookings[country_columns].sum().sort_values(ascending=False)\n",
    "\n",
    "# Convert the result to a DataFrame for visualization\n",
    "country_bookings_df = country_bookings.reset_index()\n",
    "country_bookings_df.columns = ['country', 'bookings']\n",
    "\n",
    "# Visualize the top 10 countries with the highest number of bookings\n",
    "plt.figure(figsize=(10, 8))\n",
    "sns.barplot(x='bookings', y='country', data=country_bookings_df.head(10), palette='coolwarm')\n",
    "plt.title('Figure.1 Top 10 Countries by Number of Bookings')\n",
    "plt.xlabel('Number of Bookings')\n",
    "plt.ylabel('Country')\n",
    "plt.show()\n"
   ]
  },
  {
   "cell_type": "markdown",
   "id": "f50167ad",
   "metadata": {},
   "source": [
    "## 3.Data Analysis"
   ]
  },
  {
   "cell_type": "markdown",
   "id": "74cf114c",
   "metadata": {},
   "source": [
    "### 3.1 Time Series Analysis\n",
    "In this project, time series analysis will be used to explore the dynamic trends and seasonal patterns of hotel bookings over time. By aggregating monthly bookings, we developed time series plots that aim to reveal cyclical changes in booking activity. This analysis is crucial for hotel management and can help identify peak and off-season bookings, which in turn can optimise resource allocation and pricing strategies and improve hotel operational efficiency."
   ]
  },
  {
   "cell_type": "code",
   "execution_count": 26,
   "id": "ab0b85a3",
   "metadata": {},
   "outputs": [],
   "source": [
    "hotel_bookings.reset_index(inplace=True)"
   ]
  },
  {
   "cell_type": "code",
   "execution_count": 27,
   "id": "8703ad9e",
   "metadata": {},
   "outputs": [
    {
     "data": {
      "image/png": "[encoded data removed]",
      "text/plain": [
       "<Figure size 1200x600 with 1 Axes>"
      ]
     },
     "metadata": {},
     "output_type": "display_data"
    }
   ],
   "source": [
    "# Ensure that therival_date column is of type datetime\n",
    "hotel_bookings['arrival_date'] = pd.to_datetime(hotel_bookings['arrival_date'])\n",
    "\n",
    "# Set arrival_date to index\n",
    "hotel_bookings.set_index('arrival_date', inplace=True)\n",
    "\n",
    "# Aggregate booking data by month\n",
    "monthly_bookings = hotel_bookings.resample('M').size()\n",
    "\n",
    "# Plotting time series\n",
    "monthly_bookings.plot(figsize=(12, 6))\n",
    "plt.title('Figure.1 Monthly Bookings Over Time')\n",
    "plt.xlabel('Month')\n",
    "plt.ylabel('Number of Bookings')\n",
    "plt.show()\n"
   ]
  },
  {
   "cell_type": "markdown",
   "id": "a250172c",
   "metadata": {},
   "source": [
    "This time series graph shows the variation in the number of hotel bookings per month. As can be seen from the graph, the number of bookings shows significant volatility over time, containing several significant peaks and troughs. These peaks and valleys may correspond to peak and off-peak travel seasons, reflecting seasonal influences or the impact of specific events on the demand for hotel bookings.\n",
    "\n",
    "Peaks may indicate high demand during holiday seasons or special events, such as school holidays or major festivals. Conversely, troughs may indicate lower demand during non-holiday periods or when schools are in session. For example, if the data in the graph covers the complete cycle of the year, it can be observed that bookings may increase during the summer and winter holiday periods, while they may decrease in the autumn and early spring.\n",
    "\n",
    "In addition, fluctuations in the graph may also indicate the impact of promotions or price changes. If promotions or price reductions have taken place during certain months, a short-term increase in bookings may be seen. For hotel managers, this information is invaluable because it can help managers better anticipate future changes in demand, leading to more effective resource planning and pricing strategy adjustments."
   ]
  },
  {
   "cell_type": "markdown",
   "id": "fd516a33",
   "metadata": {},
   "source": [
    "### 3.2 Machine Learning\n",
    "As part of this project, machine learning techniques will be used to predict the cancellation probability of hotel bookings. By selecting feature variables related to cancellation behaviour for model training, a random forest classifier is constructed and its prediction performance is evaluated on a test set. The model exhibits good accuracy, suggesting that machine learning methods can effectively predict customers' booking behaviour. This finding provides important operational insights for hotels, which can help optimise inventory management and develop more accurate marketing strategies(Chen et al., 2023)."
   ]
  },
  {
   "cell_type": "code",
   "execution_count": 15,
   "id": "0202de50",
   "metadata": {},
   "outputs": [],
   "source": [
    "hotel_bookings['total_stay'] = hotel_bookings['stays_in_weekend_nights'] + hotel_bookings['stays_in_week_nights']"
   ]
  },
  {
   "cell_type": "code",
   "execution_count": 35,
   "id": "48ea67e1",
   "metadata": {},
   "outputs": [
    {
     "name": "stdout",
     "output_type": "stream",
     "text": [
      "Accuracy: 0.731928972275735\n"
     ]
    }
   ],
   "source": [
    "from sklearn.model_selection import train_test_split\n",
    "from sklearn.ensemble import RandomForestClassifier\n",
    "from sklearn.metrics import accuracy_score\n",
    "\n",
    "\n",
    "# Defining characteristics and target variables\n",
    "X = hotel_bookings[['lead_time', 'total_stay', 'adults', 'children']]\n",
    "y = hotel_bookings['is_canceled']  \n",
    "\n",
    "# Segmented data sets\n",
    "X_train, X_test, y_train, y_test = train_test_split(X, y, test_size=0.2, random_state=42)\n",
    "\n",
    "# Training a Random Forest Classifier\n",
    "clf = RandomForestClassifier(random_state=42)\n",
    "clf.fit(X_train, y_train)\n",
    "\n",
    "# Forecasting and evaluating models\n",
    "y_pred = clf.predict(X_test)\n",
    "print(f'Accuracy: {accuracy_score(y_test, y_pred)}')\n"
   ]
  },
  {
   "cell_type": "markdown",
   "id": "e263abc6",
   "metadata": {},
   "source": [
    "Getting a model accuracy of 0.7319 or about 73.2% means that the Random Forest classifier correctly predicts whether or not a booking will be cancelled about 73% of the time on the test set.\n",
    "\n",
    "To enhance the ability of the model to predict the probability of hotel booking cancellations accurately, in-depth feature engineering optimization was undertaken in this project. Firstly, the feature set was expanded to incorporate new variables such as customer type, booking channel, and prepayment type. These variables are considered to have a significant impact on the likelihood of booking cancellations. Furthermore, for numerical features, particularly the 'lead_time' feature, which exhibits considerable skewness, a log-transformation process was applied. This transformation aims to reduce data skewness, thereby facilitating more effective learning and prediction by the model. The implementation of these steps seeks to encapsulate the multifaceted factors influencing booking cancellation decisions through a richer feature representation, thereby enhancing the model's predictive accuracy."
   ]
  },
  {
   "cell_type": "code",
   "execution_count": 17,
   "id": "362e8a21",
   "metadata": {},
   "outputs": [
    {
     "name": "stdout",
     "output_type": "stream",
     "text": [
      "Adjusted Model Accuracy: 0.7684060641594773\n"
     ]
    }
   ],
   "source": [
    "import numpy as np\n",
    "import pandas as pd\n",
    "from sklearn.model_selection import train_test_split\n",
    "from sklearn.ensemble import RandomForestClassifier\n",
    "from sklearn.metrics import accuracy_score\n",
    "from sklearn.preprocessing import StandardScaler\n",
    "\n",
    "# Adding new features and coding for solo heat\n",
    "features = ['lead_time', 'total_stay', 'adults', 'children', 'customer_type', 'distribution_channel', 'deposit_type']\n",
    "X = pd.get_dummies(hotel_bookings[features], drop_first=True)\n",
    "\n",
    "# Logarithmic conversion of 'lead_time'\n",
    "X['lead_time_log'] = np.log1p(X['lead_time'])\n",
    "\n",
    "# Standardised numerical characteristics\n",
    "scaler = StandardScaler()\n",
    "num_features = ['lead_time', 'total_stay', 'adults', 'children', 'lead_time_log']\n",
    "X[num_features] = scaler.fit_transform(X[num_features])\n",
    "\n",
    "y = hotel_bookings['is_canceled']\n",
    "\n",
    "# Segmented data sets\n",
    "X_train, X_test, y_train, y_test = train_test_split(X, y, test_size=0.2, random_state=42)\n",
    "\n",
    "# Training a Random Forest Classifier\n",
    "clf = RandomForestClassifier(n_estimators=100, random_state=42)\n",
    "clf.fit(X_train, y_train)\n",
    "\n",
    "# Predict and calculate accuracy\n",
    "y_pred = clf.predict(X_test)\n",
    "print(f'Adjusted Model Accuracy: {accuracy_score(y_test, y_pred)}')\n"
   ]
  },
  {
   "cell_type": "markdown",
   "id": "211652d2",
   "metadata": {},
   "source": [
    "The enhanced machine learning model has an adjusted accuracy of approximately 76.84 per cent, which greatly contributes to understanding different booking preferences across geographic regions. The performance of the model was improved by incorporating a wider range of features such as customer type, booking channel and prepayment type, which coincided with the project's objectives of exploring differences in booking behaviour.\n",
    "\n",
    "By integrating these additional variables, the model provides a granular view of how various factors affect the probability of booking cancellation. In turn, this serves as an indirect but insightful indicator of customer preference. For example, the model is able to identify the impact of booking channel on cancellations, thus revealing regional preferences for certain booking methods. Similarly, changes in cancellation rates associated with prepayment type may reveal the financial behaviour or trust level of customers in a particular region.\n",
    "\n",
    "These insights are invaluable to hotel management and marketing teams, enabling them to customise strategies that resonate with the varying preferences of different customers. For regions with a clear preference for booking flexibility, promotions that emphasise free cancellations or last-minute bookings may be particularly effective. Conversely, targeting early bird specials for customers who prefer to book early can cater to their preference for early bookings.\n",
    "\n",
    "In essence, the improved predictive accuracy of the model has enabled a deeper understanding of global booking preferences, equipping hoteliers with the knowledge to better serve international customers. This project highlights the importance of detailed feature engineering in machine learning to reveal the complex dynamics of customer booking behaviour.\n",
    "\n"
   ]
  },
  {
   "cell_type": "markdown",
   "id": "44ed316b",
   "metadata": {},
   "source": [
    "## 4. Conclusion\n",
    "A comprehensive analysis of hotel booking data reveals temporal and geographic factors that influence customer behavior. Seasonal trends are very clear, with peaks reflecting increased bookings during the holiday period and troups indicating potential opportunities to promote off-peak travel. The geographical distribution of bookings shows that guests mainly come from specific regions, especially Portugal, the UK, France and Spain, indicating cultural or economic affinity as well as successful market penetration. Machine learning models predict cancellations with nearly 77% accuracy, revealing key factors that are critical to understanding customer commitment, such as booking lead time. The model's insights into cancellation behavior provide actionable intelligence for adjusting hotel operations and policies.\n",
    "\n",
    "Based on these findings, the study recommends targeted marketing campaigns based on the identified seasonal patterns during peak booking periods. Off-season promotions and personalized experiences can attract potential guests during the off-season. Dynamic pricing strategies based on predictive analytics can take full advantage of expected demand fluctuations. Nuanced cancellation policies enhance customer trust and minimize lost revenue. In addition, strategies targeting specific market segments can leverage loyalty programs and customized products that cater to dominant regional markets. Integrating these recommendations aims to refine hotels' approaches to revenue management, customer satisfaction, and competitive positioning to achieve operational excellence and sustained growth in a dynamic, rapidly changing industry environment. A comprehensive analysis of hotel booking data reveals temporal and geographic factors that influence customer behavior. Seasonal trends are very clear, with peaks reflecting increased bookings during the holiday period and troups indicating potential opportunities to promote off-peak travel. The geographical distribution of bookings shows that guests mainly come from specific regions, especially Portugal, the UK, France and Spain, indicating cultural or economic affinity as well as successful market penetration. Machine learning models predict cancellations with nearly 77% accuracy, revealing key factors that are critical to understanding customer commitment, such as booking lead time. The model's insights into cancellation behavior provide actionable intelligence for adjusting hotel operations and policies.\n",
    "\n",
    "Based on these findings, the study recommends targeted marketing campaigns based on the identified seasonal patterns during peak booking periods. Off-season promotions and personalized experiences can attract potential guests during the off-season. Dynamic pricing strategies based on predictive analytics can take full advantage of expected demand fluctuations. Nuanced cancellation policies enhance customer trust and minimize lost revenue. In addition, strategies targeting specific market segments can leverage loyalty programs and customized products that cater to dominant regional markets. Integrating these recommendations aims to refine hotels' approaches to revenue management, customer satisfaction, and competitive positioning to achieve operational excellence and sustained growth in a dynamic, rapidly changing industry environment."
   ]
  },
  {
   "cell_type": "markdown",
   "id": "821c3f57",
   "metadata": {},
   "source": [
    "## Reference"
   ]
  },
  {
   "cell_type": "markdown",
   "id": "6ce8e222",
   "metadata": {},
   "source": [
    "Antonio, N., De Almeida, A. and Nunes, L. (2019) ‘Hotel booking demand datasets’, Data in Brief, 22, pp. 41–49. Available at: https://doi.org/10.1016/j.dib.2018.11.126.\n",
    "\n",
    "Dash, Ch.S.K. et al. (2023) ‘An outliers detection and elimination framework in classification task of data mining’, Decision Analytics Journal, 6, p. 100164. Available at: https://doi.org/10.1016/j.dajour.2023.100164.\n",
    "\n",
    "Chen, S. et al. (2023) ‘Prediction of hotel booking cancellations: Integration of machine learning and probability model based on interpretable feature interaction’, Decision Support Systems, 170, p. 113959. Available at: https://doi.org/10.1016/j.dss.2023.113959.\n",
    "\n",
    "Fernández-Morales, A. and Mayorga-Toledano, M.C. (2008) ‘Seasonal concentration of the hotel demand in Costa del Sol: A decomposition by nationalities’, Tourism Management, 29(5), pp. 940–949. Available at: https://doi.org/10.1016/j.tourman.2007.11.003."
   ]
  }
 ],
 "metadata": {
  "kernelspec": {
   "display_name": "Python 3 (ipykernel)",
   "language": "python",
   "name": "python3"
  },
  "language_info": {
   "codemirror_mode": {
    "name": "ipython",
    "version": 3
   },
   "file_extension": ".py",
   "mimetype": "text/x-python",
   "name": "python",
   "nbconvert_exporter": "python",
   "pygments_lexer": "ipython3",
   "version": "3.11.5"
  }
 },
 "nbformat": 4,
 "nbformat_minor": 5
}
